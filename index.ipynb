{
 "cells": [
  {
   "cell_type": "code",
   "execution_count": 90,
   "metadata": {},
   "outputs": [
    {
     "data": {
      "text/html": [
       "<div>\n",
       "<style scoped>\n",
       "    .dataframe tbody tr th:only-of-type {\n",
       "        vertical-align: middle;\n",
       "    }\n",
       "\n",
       "    .dataframe tbody tr th {\n",
       "        vertical-align: top;\n",
       "    }\n",
       "\n",
       "    .dataframe thead th {\n",
       "        text-align: right;\n",
       "    }\n",
       "</style>\n",
       "<table border=\"1\" class=\"dataframe\">\n",
       "  <thead>\n",
       "    <tr style=\"text-align: right;\">\n",
       "      <th></th>\n",
       "      <th>questionType</th>\n",
       "      <th>askerID</th>\n",
       "      <th>questionTime</th>\n",
       "      <th>questionText</th>\n",
       "      <th>answers</th>\n",
       "      <th>asin</th>\n",
       "    </tr>\n",
       "  </thead>\n",
       "  <tbody>\n",
       "    <tr>\n",
       "      <th>0</th>\n",
       "      <td>open-ended</td>\n",
       "      <td>A3VTSR929E3J0R</td>\n",
       "      <td>December 26, 2013</td>\n",
       "      <td>May I request for a manual instruction on this...</td>\n",
       "      <td>[Homedics has a complete list of instruction m...</td>\n",
       "      <td>B000050FES</td>\n",
       "    </tr>\n",
       "    <tr>\n",
       "      <th>1</th>\n",
       "      <td>open-ended</td>\n",
       "      <td>A1LZ5DJ7AJYAXD</td>\n",
       "      <td>April 26, 2014</td>\n",
       "      <td>Having problems with the heater melting the wa...</td>\n",
       "      <td>[I leave the unit on all the time so it is alw...</td>\n",
       "      <td>B000050FES</td>\n",
       "    </tr>\n",
       "    <tr>\n",
       "      <th>2</th>\n",
       "      <td>yes/no</td>\n",
       "      <td>A1ER8W5FAQM6G5</td>\n",
       "      <td>July 11, 2014</td>\n",
       "      <td>How much wax (in pounds, for instance) does it...</td>\n",
       "      <td>[It came with the proper amount of wax, but th...</td>\n",
       "      <td>B000050FES</td>\n",
       "    </tr>\n",
       "    <tr>\n",
       "      <th>3</th>\n",
       "      <td>open-ended</td>\n",
       "      <td>A1P403R4I7LVPU</td>\n",
       "      <td>December 20, 2013</td>\n",
       "      <td>How to know the expired date of this product?</td>\n",
       "      <td>[The expiration date is on the bottom of the p...</td>\n",
       "      <td>B000052YQ2</td>\n",
       "    </tr>\n",
       "    <tr>\n",
       "      <th>4</th>\n",
       "      <td>open-ended</td>\n",
       "      <td>A166KM8A5H1Z2O</td>\n",
       "      <td>February 26, 2014</td>\n",
       "      <td>I am not in the sun as I work inside. I am new...</td>\n",
       "      <td>[This product is awesome. I dont spend a lot o...</td>\n",
       "      <td>B000052YQ2</td>\n",
       "    </tr>\n",
       "    <tr>\n",
       "      <th>...</th>\n",
       "      <td>...</td>\n",
       "      <td>...</td>\n",
       "      <td>...</td>\n",
       "      <td>...</td>\n",
       "      <td>...</td>\n",
       "      <td>...</td>\n",
       "    </tr>\n",
       "    <tr>\n",
       "      <th>32931</th>\n",
       "      <td>yes/no</td>\n",
       "      <td>A164SPHD6JR4L0</td>\n",
       "      <td>July 2, 2014</td>\n",
       "      <td>is Argan Oil Pure 100% good for Skin?</td>\n",
       "      <td>[I really like it.  It is a non greasy moistur...</td>\n",
       "      <td>B00L5JHZJO</td>\n",
       "    </tr>\n",
       "    <tr>\n",
       "      <th>32932</th>\n",
       "      <td>yes/no</td>\n",
       "      <td>A3LMNODD16O8J6</td>\n",
       "      <td>July 2, 2014</td>\n",
       "      <td>I find myself with rough cuticles right around...</td>\n",
       "      <td>[Yes, you can. In the evening before you go to...</td>\n",
       "      <td>B00L5JHZJO</td>\n",
       "    </tr>\n",
       "    <tr>\n",
       "      <th>32933</th>\n",
       "      <td>yes/no</td>\n",
       "      <td>A13S7ZT69W96HR</td>\n",
       "      <td>July 2, 2014</td>\n",
       "      <td>is it good for nail beauty?</td>\n",
       "      <td>[I would say it's good for cuticles.  I can't ...</td>\n",
       "      <td>B00L5JHZJO</td>\n",
       "    </tr>\n",
       "    <tr>\n",
       "      <th>32934</th>\n",
       "      <td>open-ended</td>\n",
       "      <td>A1HHOCBWVDXSE</td>\n",
       "      <td>July 2, 2014</td>\n",
       "      <td>how can i use it for Topical Use on Dry Hair?</td>\n",
       "      <td>[A little goes a long way!  A drop or two, dep...</td>\n",
       "      <td>B00L5JHZJO</td>\n",
       "    </tr>\n",
       "    <tr>\n",
       "      <th>32935</th>\n",
       "      <td>open-ended</td>\n",
       "      <td>A1ZJ90GJNNH2EK</td>\n",
       "      <td>July 2, 2014</td>\n",
       "      <td>how can i use it for Deep Conditioning Session?</td>\n",
       "      <td>[You can use it as a pre-shampoo treatment, wh...</td>\n",
       "      <td>B00L5JHZJO</td>\n",
       "    </tr>\n",
       "  </tbody>\n",
       "</table>\n",
       "<p>32936 rows × 6 columns</p>\n",
       "</div>"
      ],
      "text/plain": [
       "      questionType         askerID       questionTime  \\\n",
       "0       open-ended  A3VTSR929E3J0R  December 26, 2013   \n",
       "1       open-ended  A1LZ5DJ7AJYAXD     April 26, 2014   \n",
       "2           yes/no  A1ER8W5FAQM6G5      July 11, 2014   \n",
       "3       open-ended  A1P403R4I7LVPU  December 20, 2013   \n",
       "4       open-ended  A166KM8A5H1Z2O  February 26, 2014   \n",
       "...            ...             ...                ...   \n",
       "32931       yes/no  A164SPHD6JR4L0       July 2, 2014   \n",
       "32932       yes/no  A3LMNODD16O8J6       July 2, 2014   \n",
       "32933       yes/no  A13S7ZT69W96HR       July 2, 2014   \n",
       "32934   open-ended   A1HHOCBWVDXSE       July 2, 2014   \n",
       "32935   open-ended  A1ZJ90GJNNH2EK       July 2, 2014   \n",
       "\n",
       "                                            questionText  \\\n",
       "0      May I request for a manual instruction on this...   \n",
       "1      Having problems with the heater melting the wa...   \n",
       "2      How much wax (in pounds, for instance) does it...   \n",
       "3          How to know the expired date of this product?   \n",
       "4      I am not in the sun as I work inside. I am new...   \n",
       "...                                                  ...   \n",
       "32931              is Argan Oil Pure 100% good for Skin?   \n",
       "32932  I find myself with rough cuticles right around...   \n",
       "32933                        is it good for nail beauty?   \n",
       "32934      how can i use it for Topical Use on Dry Hair?   \n",
       "32935    how can i use it for Deep Conditioning Session?   \n",
       "\n",
       "                                                 answers        asin  \n",
       "0      [Homedics has a complete list of instruction m...  B000050FES  \n",
       "1      [I leave the unit on all the time so it is alw...  B000050FES  \n",
       "2      [It came with the proper amount of wax, but th...  B000050FES  \n",
       "3      [The expiration date is on the bottom of the p...  B000052YQ2  \n",
       "4      [This product is awesome. I dont spend a lot o...  B000052YQ2  \n",
       "...                                                  ...         ...  \n",
       "32931  [I really like it.  It is a non greasy moistur...  B00L5JHZJO  \n",
       "32932  [Yes, you can. In the evening before you go to...  B00L5JHZJO  \n",
       "32933  [I would say it's good for cuticles.  I can't ...  B00L5JHZJO  \n",
       "32934  [A little goes a long way!  A drop or two, dep...  B00L5JHZJO  \n",
       "32935  [You can use it as a pre-shampoo treatment, wh...  B00L5JHZJO  \n",
       "\n",
       "[32936 rows x 6 columns]"
      ]
     },
     "execution_count": 90,
     "metadata": {},
     "output_type": "execute_result"
    }
   ],
   "source": [
    "import pandas as pd\n",
    "import gzip\n",
    "\n",
    "def parse(path):\n",
    "    g = gzip.open(path, 'rb')\n",
    "    for l in g:\n",
    "        yield eval(l)\n",
    "\n",
    "def getDF(path):\n",
    "    data = list(parse(path))\n",
    "    df = pd.json_normalize(data, 'questions', ['asin'])\n",
    "    return df\n",
    "\n",
    "# Replace 'QA_Beauty.json.gz' with the actual path to your Gzip-compressed JSON file\n",
    "df = getDF('QA_Beauty.json.gz')\n",
    "\n",
    "# Filter \"answers\" column to only include \"answerText\" values\n",
    "df['answers'] = df['answers'].apply(lambda x: [answer.get('answerText', '') for answer in x])\n",
    "\n",
    "# Display the DataFrame\n",
    "# df.info()\n",
    "# filtered_answers = df[\"answers\"].apply(lambda answers: [ans[\"answerText\"] for ans in answers if ans[\"helpful\"] == [0, 1]])\n",
    "\n",
    "# Add the filtered answers as a new column in the DataFrame\n",
    "# df[\"filtered_answers\"] = filtered_answers\n",
    "\n",
    "\n",
    "\n",
    "# Display the DataFrame\n",
    "df\n",
    "\n",
    "\n",
    "# Display the DataFrame\n",
    "# df.info()"
   ]
  },
  {
   "cell_type": "code",
   "execution_count": 91,
   "metadata": {},
   "outputs": [],
   "source": [
    "qa =df.drop(columns=[\"questionType\", \"askerID\", \"questionTime\",\"asin\"], axis = 1)"
   ]
  },
  {
   "cell_type": "code",
   "execution_count": 92,
   "metadata": {},
   "outputs": [
    {
     "data": {
      "text/plain": [
       "'can i put this on a toddler skin?'"
      ]
     },
     "execution_count": 92,
     "metadata": {},
     "output_type": "execute_result"
    }
   ],
   "source": [
    "qa[\"questionText\"].loc[5]"
   ]
  },
  {
   "cell_type": "code",
   "execution_count": 93,
   "metadata": {},
   "outputs": [
    {
     "data": {
      "text/plain": [
       "[\"You could put it on a toddler's skin.. but not below 6 months.  It's for sensitive skin and SPF 15 Sunscreen.  My little 5 yr old uses it, and it's fine.  On the bottle, says vitamin E and aloe. Hope it helps ;)\",\n",
       " \"I really don't know.  I would think you could, but to be save, why don't you check with your pediatrician?\"]"
      ]
     },
     "execution_count": 93,
     "metadata": {},
     "output_type": "execute_result"
    }
   ],
   "source": [
    "qa[\"answers\"].loc[5]"
   ]
  },
  {
   "cell_type": "code",
   "execution_count": 12,
   "metadata": {},
   "outputs": [
    {
     "name": "stdout",
     "output_type": "stream",
     "text": [
      "<class 'pandas.core.frame.DataFrame'>\n",
      "RangeIndex: 125652 entries, 0 to 125651\n",
      "Data columns (total 6 columns):\n",
      " #   Column        Non-Null Count   Dtype \n",
      "---  ------        --------------   ----- \n",
      " 0   questionType  32936 non-null   object\n",
      " 1   askerID       32936 non-null   object\n",
      " 2   questionTime  32936 non-null   object\n",
      " 3   questionText  32936 non-null   object\n",
      " 4   asin          32936 non-null   object\n",
      " 5   answerText    125652 non-null  object\n",
      "dtypes: object(6)\n",
      "memory usage: 5.8+ MB\n"
     ]
    }
   ],
   "source": [
    "import pandas as pd\n",
    "import gzip\n",
    "\n",
    "def parse(path):\n",
    "    g = gzip.open(path, 'rb')\n",
    "    for l in g:\n",
    "        yield eval(l)\n",
    "\n",
    "def getDF(path):\n",
    "    data = list(parse(path))\n",
    "    df = pd.json_normalize(data, 'questions', ['asin'])\n",
    "    \n",
    "    # Split the 'answers' column\n",
    "    df_split_answers = pd.json_normalize(df['answers'].explode())\n",
    "    \n",
    "    # Concatenate the split 'answers' DataFrame with the original DataFrame and drop the original 'answers' column\n",
    "    df = pd.concat([df, df_split_answers['answerText']], axis=1).drop('answers', axis=1)\n",
    "    \n",
    "    return df\n",
    "\n",
    "# Replace 'QA_Beauty.json.gz' with the actual path to your Gzip-compressed JSON file\n",
    "df = getDF('QA_Beauty.json.gz')\n",
    "\n",
    "# Display the DataFrame\n",
    "df.info()"
   ]
  },
  {
   "cell_type": "code",
   "execution_count": 16,
   "metadata": {},
   "outputs": [
    {
     "data": {
      "text/plain": [
       "'How much wax (in pounds, for instance) does it take to fill this heater?'"
      ]
     },
     "execution_count": 16,
     "metadata": {},
     "output_type": "execute_result"
    }
   ],
   "source": [
    "df[\"questionText\"].loc[2]"
   ]
  },
  {
   "cell_type": "code",
   "execution_count": 48,
   "metadata": {},
   "outputs": [
    {
     "data": {
      "text/plain": [
       "'I leave the unit on all the time so it is always ready.  It has always stayed perfectly warm.  When I do let it harden however, it takes many hours to melt down.'"
      ]
     },
     "execution_count": 48,
     "metadata": {},
     "output_type": "execute_result"
    }
   ],
   "source": [
    "df[\"answerText\"].loc[2]"
   ]
  },
  {
   "cell_type": "code",
   "execution_count": 20,
   "metadata": {},
   "outputs": [],
   "source": [
    "qa =df.drop(columns=[\"questionType\", \"askerID\", \"questionTime\",\"asin\"], axis = 1)"
   ]
  },
  {
   "cell_type": "code",
   "execution_count": 21,
   "metadata": {},
   "outputs": [
    {
     "data": {
      "text/html": [
       "<div>\n",
       "<style scoped>\n",
       "    .dataframe tbody tr th:only-of-type {\n",
       "        vertical-align: middle;\n",
       "    }\n",
       "\n",
       "    .dataframe tbody tr th {\n",
       "        vertical-align: top;\n",
       "    }\n",
       "\n",
       "    .dataframe thead th {\n",
       "        text-align: right;\n",
       "    }\n",
       "</style>\n",
       "<table border=\"1\" class=\"dataframe\">\n",
       "  <thead>\n",
       "    <tr style=\"text-align: right;\">\n",
       "      <th></th>\n",
       "      <th>questionText</th>\n",
       "      <th>answerText</th>\n",
       "    </tr>\n",
       "  </thead>\n",
       "  <tbody>\n",
       "    <tr>\n",
       "      <th>0</th>\n",
       "      <td>May I request for a manual instruction on this...</td>\n",
       "      <td>Homedics has a complete list of instruction ma...</td>\n",
       "    </tr>\n",
       "    <tr>\n",
       "      <th>1</th>\n",
       "      <td>Having problems with the heater melting the wa...</td>\n",
       "      <td>Here is the link in Adobe Acrobat (PDF) format...</td>\n",
       "    </tr>\n",
       "    <tr>\n",
       "      <th>2</th>\n",
       "      <td>How much wax (in pounds, for instance) does it...</td>\n",
       "      <td>I leave the unit on all the time so it is alwa...</td>\n",
       "    </tr>\n",
       "    <tr>\n",
       "      <th>3</th>\n",
       "      <td>How to know the expired date of this product?</td>\n",
       "      <td>I also don't turn the unit off, I just keep it...</td>\n",
       "    </tr>\n",
       "    <tr>\n",
       "      <th>4</th>\n",
       "      <td>I am not in the sun as I work inside. I am new...</td>\n",
       "      <td>If the wax is solid, it may take anywhere betw...</td>\n",
       "    </tr>\n",
       "    <tr>\n",
       "      <th>...</th>\n",
       "      <td>...</td>\n",
       "      <td>...</td>\n",
       "    </tr>\n",
       "    <tr>\n",
       "      <th>125647</th>\n",
       "      <td>NaN</td>\n",
       "      <td>Put a few drops of oil in the palm of your han...</td>\n",
       "    </tr>\n",
       "    <tr>\n",
       "      <th>125648</th>\n",
       "      <td>NaN</td>\n",
       "      <td>You can use it as a pre-shampoo treatment, whe...</td>\n",
       "    </tr>\n",
       "    <tr>\n",
       "      <th>125649</th>\n",
       "      <td>NaN</td>\n",
       "      <td>I would apply the oil liberally to my hair and...</td>\n",
       "    </tr>\n",
       "    <tr>\n",
       "      <th>125650</th>\n",
       "      <td>NaN</td>\n",
       "      <td>I added lavender &amp; tea tree essential oils to ...</td>\n",
       "    </tr>\n",
       "    <tr>\n",
       "      <th>125651</th>\n",
       "      <td>NaN</td>\n",
       "      <td>I have used this oil straight from the bottle ...</td>\n",
       "    </tr>\n",
       "  </tbody>\n",
       "</table>\n",
       "<p>125652 rows × 2 columns</p>\n",
       "</div>"
      ],
      "text/plain": [
       "                                             questionText  \\\n",
       "0       May I request for a manual instruction on this...   \n",
       "1       Having problems with the heater melting the wa...   \n",
       "2       How much wax (in pounds, for instance) does it...   \n",
       "3           How to know the expired date of this product?   \n",
       "4       I am not in the sun as I work inside. I am new...   \n",
       "...                                                   ...   \n",
       "125647                                                NaN   \n",
       "125648                                                NaN   \n",
       "125649                                                NaN   \n",
       "125650                                                NaN   \n",
       "125651                                                NaN   \n",
       "\n",
       "                                               answerText  \n",
       "0       Homedics has a complete list of instruction ma...  \n",
       "1       Here is the link in Adobe Acrobat (PDF) format...  \n",
       "2       I leave the unit on all the time so it is alwa...  \n",
       "3       I also don't turn the unit off, I just keep it...  \n",
       "4       If the wax is solid, it may take anywhere betw...  \n",
       "...                                                   ...  \n",
       "125647  Put a few drops of oil in the palm of your han...  \n",
       "125648  You can use it as a pre-shampoo treatment, whe...  \n",
       "125649  I would apply the oil liberally to my hair and...  \n",
       "125650  I added lavender & tea tree essential oils to ...  \n",
       "125651  I have used this oil straight from the bottle ...  \n",
       "\n",
       "[125652 rows x 2 columns]"
      ]
     },
     "execution_count": 21,
     "metadata": {},
     "output_type": "execute_result"
    }
   ],
   "source": [
    "qa"
   ]
  },
  {
   "cell_type": "code",
   "execution_count": 28,
   "metadata": {},
   "outputs": [
    {
     "data": {
      "text/html": [
       "<div>\n",
       "<style scoped>\n",
       "    .dataframe tbody tr th:only-of-type {\n",
       "        vertical-align: middle;\n",
       "    }\n",
       "\n",
       "    .dataframe tbody tr th {\n",
       "        vertical-align: top;\n",
       "    }\n",
       "\n",
       "    .dataframe thead th {\n",
       "        text-align: right;\n",
       "    }\n",
       "</style>\n",
       "<table border=\"1\" class=\"dataframe\">\n",
       "  <thead>\n",
       "    <tr style=\"text-align: right;\">\n",
       "      <th></th>\n",
       "      <th>questionText</th>\n",
       "      <th>answerText</th>\n",
       "    </tr>\n",
       "  </thead>\n",
       "  <tbody>\n",
       "    <tr>\n",
       "      <th>2</th>\n",
       "      <td>How much wax (in pounds, for instance) does it...</td>\n",
       "      <td>I leave the unit on all the time so it is alwa...</td>\n",
       "    </tr>\n",
       "    <tr>\n",
       "      <th>3</th>\n",
       "      <td>How to know the expired date of this product?</td>\n",
       "      <td>I also don't turn the unit off, I just keep it...</td>\n",
       "    </tr>\n",
       "    <tr>\n",
       "      <th>4</th>\n",
       "      <td>I am not in the sun as I work inside. I am new...</td>\n",
       "      <td>If the wax is solid, it may take anywhere betw...</td>\n",
       "    </tr>\n",
       "  </tbody>\n",
       "</table>\n",
       "</div>"
      ],
      "text/plain": [
       "                                        questionText  \\\n",
       "2  How much wax (in pounds, for instance) does it...   \n",
       "3      How to know the expired date of this product?   \n",
       "4  I am not in the sun as I work inside. I am new...   \n",
       "\n",
       "                                          answerText  \n",
       "2  I leave the unit on all the time so it is alwa...  \n",
       "3  I also don't turn the unit off, I just keep it...  \n",
       "4  If the wax is solid, it may take anywhere betw...  "
      ]
     },
     "execution_count": 28,
     "metadata": {},
     "output_type": "execute_result"
    }
   ],
   "source": [
    "qa.iloc[2:5]"
   ]
  },
  {
   "cell_type": "code",
   "execution_count": 42,
   "metadata": {},
   "outputs": [
    {
     "name": "stdout",
     "output_type": "stream",
     "text": [
      "<class 'pandas.core.frame.DataFrame'>\n",
      "RangeIndex: 125652 entries, 0 to 125651\n",
      "Data columns (total 11 columns):\n",
      " #   Column        Non-Null Count   Dtype \n",
      "---  ------        --------------   ----- \n",
      " 0   questionType  32936 non-null   object\n",
      " 1   askerID       32936 non-null   object\n",
      " 2   questionTime  32936 non-null   object\n",
      " 3   questionText  32936 non-null   object\n",
      " 4   asin          32936 non-null   object\n",
      " 5   answerText    125652 non-null  object\n",
      " 6   answererID    125652 non-null  object\n",
      " 7   answerTime    125652 non-null  object\n",
      " 8   helpful       125652 non-null  object\n",
      " 9   answerType    17897 non-null   object\n",
      " 10  answerScore   17897 non-null   object\n",
      "dtypes: object(11)\n",
      "memory usage: 10.5+ MB\n"
     ]
    }
   ],
   "source": [
    "import pandas as pd\n",
    "import gzip\n",
    "\n",
    "def parse(path):\n",
    "    g = gzip.open(path, 'rb')\n",
    "    for l in g:\n",
    "        yield eval(l)\n",
    "\n",
    "def getDF(path):\n",
    "    data = list(parse(path))\n",
    "    df = pd.json_normalize(data, 'questions', ['asin'])\n",
    "    \n",
    "    # Split the 'answers' column\n",
    "    df_split_answers = pd.json_normalize(df['answers'].explode(), sep='_')\n",
    "    \n",
    "    # Concatenate the split 'answers' DataFrame with the original DataFrame and drop the original 'answers' column\n",
    "    df = pd.concat([df, df_split_answers], axis=1).drop('answers', axis=1)\n",
    "    \n",
    "    return df\n",
    "\n",
    "# Replace 'QA_Beauty.json.gz' with the actual path to your Gzip-compressed JSON file\n",
    "df = getDF('QA_Beauty.json.gz')\n",
    "\n",
    "# Display the DataFrame\n",
    "df.info()"
   ]
  },
  {
   "cell_type": "code",
   "execution_count": 43,
   "metadata": {},
   "outputs": [
    {
     "data": {
      "text/html": [
       "<div>\n",
       "<style scoped>\n",
       "    .dataframe tbody tr th:only-of-type {\n",
       "        vertical-align: middle;\n",
       "    }\n",
       "\n",
       "    .dataframe tbody tr th {\n",
       "        vertical-align: top;\n",
       "    }\n",
       "\n",
       "    .dataframe thead th {\n",
       "        text-align: right;\n",
       "    }\n",
       "</style>\n",
       "<table border=\"1\" class=\"dataframe\">\n",
       "  <thead>\n",
       "    <tr style=\"text-align: right;\">\n",
       "      <th></th>\n",
       "      <th>questionText</th>\n",
       "      <th>answerText</th>\n",
       "    </tr>\n",
       "  </thead>\n",
       "  <tbody>\n",
       "    <tr>\n",
       "      <th>0</th>\n",
       "      <td>May I request for a manual instruction on this...</td>\n",
       "      <td>Homedics has a complete list of instruction ma...</td>\n",
       "    </tr>\n",
       "    <tr>\n",
       "      <th>1</th>\n",
       "      <td>Having problems with the heater melting the wa...</td>\n",
       "      <td>Here is the link in Adobe Acrobat (PDF) format...</td>\n",
       "    </tr>\n",
       "    <tr>\n",
       "      <th>2</th>\n",
       "      <td>How much wax (in pounds, for instance) does it...</td>\n",
       "      <td>I leave the unit on all the time so it is alwa...</td>\n",
       "    </tr>\n",
       "    <tr>\n",
       "      <th>3</th>\n",
       "      <td>How to know the expired date of this product?</td>\n",
       "      <td>I also don't turn the unit off, I just keep it...</td>\n",
       "    </tr>\n",
       "    <tr>\n",
       "      <th>4</th>\n",
       "      <td>I am not in the sun as I work inside. I am new...</td>\n",
       "      <td>If the wax is solid, it may take anywhere betw...</td>\n",
       "    </tr>\n",
       "    <tr>\n",
       "      <th>...</th>\n",
       "      <td>...</td>\n",
       "      <td>...</td>\n",
       "    </tr>\n",
       "    <tr>\n",
       "      <th>125647</th>\n",
       "      <td>NaN</td>\n",
       "      <td>Put a few drops of oil in the palm of your han...</td>\n",
       "    </tr>\n",
       "    <tr>\n",
       "      <th>125648</th>\n",
       "      <td>NaN</td>\n",
       "      <td>You can use it as a pre-shampoo treatment, whe...</td>\n",
       "    </tr>\n",
       "    <tr>\n",
       "      <th>125649</th>\n",
       "      <td>NaN</td>\n",
       "      <td>I would apply the oil liberally to my hair and...</td>\n",
       "    </tr>\n",
       "    <tr>\n",
       "      <th>125650</th>\n",
       "      <td>NaN</td>\n",
       "      <td>I added lavender &amp; tea tree essential oils to ...</td>\n",
       "    </tr>\n",
       "    <tr>\n",
       "      <th>125651</th>\n",
       "      <td>NaN</td>\n",
       "      <td>I have used this oil straight from the bottle ...</td>\n",
       "    </tr>\n",
       "  </tbody>\n",
       "</table>\n",
       "<p>125652 rows × 2 columns</p>\n",
       "</div>"
      ],
      "text/plain": [
       "                                             questionText  \\\n",
       "0       May I request for a manual instruction on this...   \n",
       "1       Having problems with the heater melting the wa...   \n",
       "2       How much wax (in pounds, for instance) does it...   \n",
       "3           How to know the expired date of this product?   \n",
       "4       I am not in the sun as I work inside. I am new...   \n",
       "...                                                   ...   \n",
       "125647                                                NaN   \n",
       "125648                                                NaN   \n",
       "125649                                                NaN   \n",
       "125650                                                NaN   \n",
       "125651                                                NaN   \n",
       "\n",
       "                                               answerText  \n",
       "0       Homedics has a complete list of instruction ma...  \n",
       "1       Here is the link in Adobe Acrobat (PDF) format...  \n",
       "2       I leave the unit on all the time so it is alwa...  \n",
       "3       I also don't turn the unit off, I just keep it...  \n",
       "4       If the wax is solid, it may take anywhere betw...  \n",
       "...                                                   ...  \n",
       "125647  Put a few drops of oil in the palm of your han...  \n",
       "125648  You can use it as a pre-shampoo treatment, whe...  \n",
       "125649  I would apply the oil liberally to my hair and...  \n",
       "125650  I added lavender & tea tree essential oils to ...  \n",
       "125651  I have used this oil straight from the bottle ...  \n",
       "\n",
       "[125652 rows x 2 columns]"
      ]
     },
     "execution_count": 43,
     "metadata": {},
     "output_type": "execute_result"
    }
   ],
   "source": [
    "columns_to_drop = ['questionType', 'askerID', 'questionTime', 'asin', 'answererID', 'answerTime', 'helpful', 'answerType', 'answerScore']\n",
    "\n",
    "# Drop the specified columns\n",
    "dropcol = df.drop(columns=columns_to_drop)\n",
    "dropcol"
   ]
  },
  {
   "cell_type": "code",
   "execution_count": 46,
   "metadata": {},
   "outputs": [
    {
     "data": {
      "text/plain": [
       "'I leave the unit on all the time so it is always ready.  It has always stayed perfectly warm.  When I do let it harden however, it takes many hours to melt down.'"
      ]
     },
     "execution_count": 46,
     "metadata": {},
     "output_type": "execute_result"
    }
   ],
   "source": [
    "dropcol.answerText.loc[2]"
   ]
  },
  {
   "cell_type": "code",
   "execution_count": 47,
   "metadata": {},
   "outputs": [
    {
     "data": {
      "text/plain": [
       "'How much wax (in pounds, for instance) does it take to fill this heater?'"
      ]
     },
     "execution_count": 47,
     "metadata": {},
     "output_type": "execute_result"
    }
   ],
   "source": [
    "dropcol.questionText.loc[2]"
   ]
  },
  {
   "cell_type": "markdown",
   "metadata": {},
   "source": [
    "Greetings input\n"
   ]
  },
  {
   "cell_type": "code",
   "execution_count": null,
   "metadata": {},
   "outputs": [],
   "source": [
    "greet_inputs = (\"hello\", \"hi\",\"whassup\",\"hey\",\"howdy\",\"hola\",\"good day\", \"good morning\",\"good afternoon\",\"good evening\")\n",
    "greet_response = (\"hello\", \"hi\",\"how can i help you\")\n",
    "def greet(sentence):\n",
    "    for word in sentence.split():\n",
    "        if word.lower() in greet_inputs:\n",
    "            return random.choice(greet_response)\n",
    "                                 "
   ]
  }
 ],
 "metadata": {
  "kernelspec": {
   "display_name": "learn-env",
   "language": "python",
   "name": "python3"
  },
  "language_info": {
   "codemirror_mode": {
    "name": "ipython",
    "version": 3
   },
   "file_extension": ".py",
   "mimetype": "text/x-python",
   "name": "python",
   "nbconvert_exporter": "python",
   "pygments_lexer": "ipython3",
   "version": "3.8.5"
  }
 },
 "nbformat": 4,
 "nbformat_minor": 2
}
