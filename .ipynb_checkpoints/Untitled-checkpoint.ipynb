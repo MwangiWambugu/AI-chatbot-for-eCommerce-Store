{
 "cells": [
  {
   "cell_type": "code",
   "execution_count": 3,
   "id": "0d10d8af",
   "metadata": {},
   "outputs": [
    {
     "name": "stdout",
     "output_type": "stream",
     "text": [
      "      questionType         askerID       questionTime  \\\n",
      "0       open-ended  A3VTSR929E3J0R  December 26, 2013   \n",
      "1       open-ended  A1LZ5DJ7AJYAXD     April 26, 2014   \n",
      "2           yes/no  A1ER8W5FAQM6G5      July 11, 2014   \n",
      "3       open-ended  A1P403R4I7LVPU  December 20, 2013   \n",
      "4       open-ended  A166KM8A5H1Z2O  February 26, 2014   \n",
      "...            ...             ...                ...   \n",
      "32931       yes/no  A164SPHD6JR4L0       July 2, 2014   \n",
      "32932       yes/no  A3LMNODD16O8J6       July 2, 2014   \n",
      "32933       yes/no  A13S7ZT69W96HR       July 2, 2014   \n",
      "32934   open-ended   A1HHOCBWVDXSE       July 2, 2014   \n",
      "32935   open-ended  A1ZJ90GJNNH2EK       July 2, 2014   \n",
      "\n",
      "                                            questionText  \\\n",
      "0      May I request for a manual instruction on this...   \n",
      "1      Having problems with the heater melting the wa...   \n",
      "2      How much wax (in pounds, for instance) does it...   \n",
      "3          How to know the expired date of this product?   \n",
      "4      I am not in the sun as I work inside. I am new...   \n",
      "...                                                  ...   \n",
      "32931              is Argan Oil Pure 100% good for Skin?   \n",
      "32932  I find myself with rough cuticles right around...   \n",
      "32933                        is it good for nail beauty?   \n",
      "32934      how can i use it for Topical Use on Dry Hair?   \n",
      "32935    how can i use it for Deep Conditioning Session?   \n",
      "\n",
      "                                                 answers        asin  \n",
      "0      [{'answerText': 'Homedics has a complete list ...  B000050FES  \n",
      "1      [{'answerText': 'I leave the unit on all the t...  B000050FES  \n",
      "2      [{'answerText': 'It came with the proper amoun...  B000050FES  \n",
      "3      [{'answerText': 'The expiration date is on the...  B000052YQ2  \n",
      "4      [{'answerText': 'This product is awesome. I do...  B000052YQ2  \n",
      "...                                                  ...         ...  \n",
      "32931  [{'answerText': 'I really like it.  It is a no...  B00L5JHZJO  \n",
      "32932  [{'answerText': 'Yes, you can. In the evening ...  B00L5JHZJO  \n",
      "32933  [{'answerText': 'I would say it's good for cut...  B00L5JHZJO  \n",
      "32934  [{'answerText': 'A little goes a long way!  A ...  B00L5JHZJO  \n",
      "32935  [{'answerText': 'You can use it as a pre-shamp...  B00L5JHZJO  \n",
      "\n",
      "[32936 rows x 6 columns]\n"
     ]
    }
   ],
   "source": [
    "import pandas as pd\n",
    "import gzip\n",
    "\n",
    "def parse(path):\n",
    "    g = gzip.open(path, 'rb')\n",
    "    for l in g:\n",
    "        yield eval(l)\n",
    "\n",
    "def getDF(path):\n",
    "    data = list(parse(path))\n",
    "    df = pd.json_normalize(data, 'questions', ['asin'])\n",
    "    return df\n",
    "\n",
    "# Replace 'QA_Beauty.json.gz' with the actual path to your Gzip-compressed JSON file\n",
    "df = getDF('QA_Beauty.json.gz')\n",
    "\n",
    "# Display the DataFrame\n",
    "print(df)"
   ]
  },
  {
   "cell_type": "code",
   "execution_count": 4,
   "id": "06b091e2",
   "metadata": {},
   "outputs": [
    {
     "data": {
      "text/plain": [
       "'is it disposable or washable'"
      ]
     },
     "execution_count": 4,
     "metadata": {},
     "output_type": "execute_result"
    }
   ],
   "source": [
    "df['questionText'].loc[15]"
   ]
  },
  {
   "cell_type": "code",
   "execution_count": 5,
   "id": "132b849b",
   "metadata": {
    "scrolled": true
   },
   "outputs": [
    {
     "data": {
      "text/plain": [
       "[{'answerText': 'Disposable',\n",
       "  'answererID': 'A3S1T7RY1E26I4',\n",
       "  'answerTime': 'November 2, 2014',\n",
       "  'helpful': [0, 0]},\n",
       " {'answerText': 'Disposable',\n",
       "  'answererID': 'A45EACYIGJGXE',\n",
       "  'answerTime': 'November 2, 2014',\n",
       "  'helpful': [0, 0]},\n",
       " {'answerText': 'They are disposable.',\n",
       "  'answererID': 'A6N66F6V9U1S0',\n",
       "  'answerTime': 'November 2, 2014',\n",
       "  'helpful': [0, 0]}]"
      ]
     },
     "execution_count": 5,
     "metadata": {},
     "output_type": "execute_result"
    }
   ],
   "source": [
    "df['answers'].loc[15]"
   ]
  },
  {
   "cell_type": "code",
   "execution_count": 6,
   "id": "e2309588",
   "metadata": {},
   "outputs": [
    {
     "name": "stdout",
     "output_type": "stream",
     "text": [
      "                                            questionText  \\\n",
      "0      May I request for a manual instruction on this...   \n",
      "1      Having problems with the heater melting the wa...   \n",
      "2      How much wax (in pounds, for instance) does it...   \n",
      "3          How to know the expired date of this product?   \n",
      "4      I am not in the sun as I work inside. I am new...   \n",
      "...                                                  ...   \n",
      "32931              is Argan Oil Pure 100% good for Skin?   \n",
      "32932  I find myself with rough cuticles right around...   \n",
      "32933                        is it good for nail beauty?   \n",
      "32934      how can i use it for Topical Use on Dry Hair?   \n",
      "32935    how can i use it for Deep Conditioning Session?   \n",
      "\n",
      "                                        filtered_answers  \n",
      "0                                                     []  \n",
      "1                                                     []  \n",
      "2                                                     []  \n",
      "3                                                     []  \n",
      "4                                                     []  \n",
      "...                                                  ...  \n",
      "32931  [{'answerText': 'Yes.... it is high in vitamin...  \n",
      "32932  [{'answerText': 'Yes, you can. In the evening ...  \n",
      "32933                                                 []  \n",
      "32934                                                 []  \n",
      "32935                                                 []  \n",
      "\n",
      "[32936 rows x 2 columns]\n"
     ]
    }
   ],
   "source": [
    "import pandas as pd\n",
    "\n",
    "# Assuming 'answerScore' is the column representing the answer score\n",
    "threshold_score = 0.8\n",
    "\n",
    "# Define a function to filter answers based on the threshold score\n",
    "def filter_answers(answers):\n",
    "    return [answer for answer in answers if float(answer.get('answerScore', 0)) > threshold_score]\n",
    "\n",
    "# Apply the filtering function to the 'answers' column\n",
    "df['filtered_answers'] = df['answers'].apply(filter_answers)\n",
    "\n",
    "# Create a new DataFrame with relevant columns\n",
    "filtered_df = df[['questionText', 'filtered_answers']].copy()\n",
    "\n",
    "# Display the resulting DataFrame with filtered answers\n",
    "print(filtered_df)\n"
   ]
  },
  {
   "cell_type": "code",
   "execution_count": 7,
   "id": "8855d069",
   "metadata": {},
   "outputs": [
    {
     "data": {
      "text/html": [
       "<div>\n",
       "<style scoped>\n",
       "    .dataframe tbody tr th:only-of-type {\n",
       "        vertical-align: middle;\n",
       "    }\n",
       "\n",
       "    .dataframe tbody tr th {\n",
       "        vertical-align: top;\n",
       "    }\n",
       "\n",
       "    .dataframe thead th {\n",
       "        text-align: right;\n",
       "    }\n",
       "</style>\n",
       "<table border=\"1\" class=\"dataframe\">\n",
       "  <thead>\n",
       "    <tr style=\"text-align: right;\">\n",
       "      <th></th>\n",
       "      <th>questionType</th>\n",
       "      <th>askerID</th>\n",
       "      <th>questionTime</th>\n",
       "      <th>questionText</th>\n",
       "      <th>answers</th>\n",
       "      <th>asin</th>\n",
       "      <th>filtered_answers</th>\n",
       "    </tr>\n",
       "  </thead>\n",
       "  <tbody>\n",
       "    <tr>\n",
       "      <th>0</th>\n",
       "      <td>open-ended</td>\n",
       "      <td>A3VTSR929E3J0R</td>\n",
       "      <td>December 26, 2013</td>\n",
       "      <td>May I request for a manual instruction on this...</td>\n",
       "      <td>[{'answerText': 'Homedics has a complete list ...</td>\n",
       "      <td>B000050FES</td>\n",
       "      <td>[]</td>\n",
       "    </tr>\n",
       "    <tr>\n",
       "      <th>1</th>\n",
       "      <td>open-ended</td>\n",
       "      <td>A1LZ5DJ7AJYAXD</td>\n",
       "      <td>April 26, 2014</td>\n",
       "      <td>Having problems with the heater melting the wa...</td>\n",
       "      <td>[{'answerText': 'I leave the unit on all the t...</td>\n",
       "      <td>B000050FES</td>\n",
       "      <td>[]</td>\n",
       "    </tr>\n",
       "    <tr>\n",
       "      <th>2</th>\n",
       "      <td>yes/no</td>\n",
       "      <td>A1ER8W5FAQM6G5</td>\n",
       "      <td>July 11, 2014</td>\n",
       "      <td>How much wax (in pounds, for instance) does it...</td>\n",
       "      <td>[{'answerText': 'It came with the proper amoun...</td>\n",
       "      <td>B000050FES</td>\n",
       "      <td>[]</td>\n",
       "    </tr>\n",
       "    <tr>\n",
       "      <th>3</th>\n",
       "      <td>open-ended</td>\n",
       "      <td>A1P403R4I7LVPU</td>\n",
       "      <td>December 20, 2013</td>\n",
       "      <td>How to know the expired date of this product?</td>\n",
       "      <td>[{'answerText': 'The expiration date is on the...</td>\n",
       "      <td>B000052YQ2</td>\n",
       "      <td>[]</td>\n",
       "    </tr>\n",
       "    <tr>\n",
       "      <th>4</th>\n",
       "      <td>open-ended</td>\n",
       "      <td>A166KM8A5H1Z2O</td>\n",
       "      <td>February 26, 2014</td>\n",
       "      <td>I am not in the sun as I work inside. I am new...</td>\n",
       "      <td>[{'answerText': 'This product is awesome. I do...</td>\n",
       "      <td>B000052YQ2</td>\n",
       "      <td>[]</td>\n",
       "    </tr>\n",
       "    <tr>\n",
       "      <th>...</th>\n",
       "      <td>...</td>\n",
       "      <td>...</td>\n",
       "      <td>...</td>\n",
       "      <td>...</td>\n",
       "      <td>...</td>\n",
       "      <td>...</td>\n",
       "      <td>...</td>\n",
       "    </tr>\n",
       "    <tr>\n",
       "      <th>32931</th>\n",
       "      <td>yes/no</td>\n",
       "      <td>A164SPHD6JR4L0</td>\n",
       "      <td>July 2, 2014</td>\n",
       "      <td>is Argan Oil Pure 100% good for Skin?</td>\n",
       "      <td>[{'answerText': 'I really like it.  It is a no...</td>\n",
       "      <td>B00L5JHZJO</td>\n",
       "      <td>[{'answerText': 'Yes.... it is high in vitamin...</td>\n",
       "    </tr>\n",
       "    <tr>\n",
       "      <th>32932</th>\n",
       "      <td>yes/no</td>\n",
       "      <td>A3LMNODD16O8J6</td>\n",
       "      <td>July 2, 2014</td>\n",
       "      <td>I find myself with rough cuticles right around...</td>\n",
       "      <td>[{'answerText': 'Yes, you can. In the evening ...</td>\n",
       "      <td>B00L5JHZJO</td>\n",
       "      <td>[{'answerText': 'Yes, you can. In the evening ...</td>\n",
       "    </tr>\n",
       "    <tr>\n",
       "      <th>32933</th>\n",
       "      <td>yes/no</td>\n",
       "      <td>A13S7ZT69W96HR</td>\n",
       "      <td>July 2, 2014</td>\n",
       "      <td>is it good for nail beauty?</td>\n",
       "      <td>[{'answerText': 'I would say it's good for cut...</td>\n",
       "      <td>B00L5JHZJO</td>\n",
       "      <td>[]</td>\n",
       "    </tr>\n",
       "    <tr>\n",
       "      <th>32934</th>\n",
       "      <td>open-ended</td>\n",
       "      <td>A1HHOCBWVDXSE</td>\n",
       "      <td>July 2, 2014</td>\n",
       "      <td>how can i use it for Topical Use on Dry Hair?</td>\n",
       "      <td>[{'answerText': 'A little goes a long way!  A ...</td>\n",
       "      <td>B00L5JHZJO</td>\n",
       "      <td>[]</td>\n",
       "    </tr>\n",
       "    <tr>\n",
       "      <th>32935</th>\n",
       "      <td>open-ended</td>\n",
       "      <td>A1ZJ90GJNNH2EK</td>\n",
       "      <td>July 2, 2014</td>\n",
       "      <td>how can i use it for Deep Conditioning Session?</td>\n",
       "      <td>[{'answerText': 'You can use it as a pre-shamp...</td>\n",
       "      <td>B00L5JHZJO</td>\n",
       "      <td>[]</td>\n",
       "    </tr>\n",
       "  </tbody>\n",
       "</table>\n",
       "<p>32936 rows × 7 columns</p>\n",
       "</div>"
      ],
      "text/plain": [
       "      questionType         askerID       questionTime  \\\n",
       "0       open-ended  A3VTSR929E3J0R  December 26, 2013   \n",
       "1       open-ended  A1LZ5DJ7AJYAXD     April 26, 2014   \n",
       "2           yes/no  A1ER8W5FAQM6G5      July 11, 2014   \n",
       "3       open-ended  A1P403R4I7LVPU  December 20, 2013   \n",
       "4       open-ended  A166KM8A5H1Z2O  February 26, 2014   \n",
       "...            ...             ...                ...   \n",
       "32931       yes/no  A164SPHD6JR4L0       July 2, 2014   \n",
       "32932       yes/no  A3LMNODD16O8J6       July 2, 2014   \n",
       "32933       yes/no  A13S7ZT69W96HR       July 2, 2014   \n",
       "32934   open-ended   A1HHOCBWVDXSE       July 2, 2014   \n",
       "32935   open-ended  A1ZJ90GJNNH2EK       July 2, 2014   \n",
       "\n",
       "                                            questionText  \\\n",
       "0      May I request for a manual instruction on this...   \n",
       "1      Having problems with the heater melting the wa...   \n",
       "2      How much wax (in pounds, for instance) does it...   \n",
       "3          How to know the expired date of this product?   \n",
       "4      I am not in the sun as I work inside. I am new...   \n",
       "...                                                  ...   \n",
       "32931              is Argan Oil Pure 100% good for Skin?   \n",
       "32932  I find myself with rough cuticles right around...   \n",
       "32933                        is it good for nail beauty?   \n",
       "32934      how can i use it for Topical Use on Dry Hair?   \n",
       "32935    how can i use it for Deep Conditioning Session?   \n",
       "\n",
       "                                                 answers        asin  \\\n",
       "0      [{'answerText': 'Homedics has a complete list ...  B000050FES   \n",
       "1      [{'answerText': 'I leave the unit on all the t...  B000050FES   \n",
       "2      [{'answerText': 'It came with the proper amoun...  B000050FES   \n",
       "3      [{'answerText': 'The expiration date is on the...  B000052YQ2   \n",
       "4      [{'answerText': 'This product is awesome. I do...  B000052YQ2   \n",
       "...                                                  ...         ...   \n",
       "32931  [{'answerText': 'I really like it.  It is a no...  B00L5JHZJO   \n",
       "32932  [{'answerText': 'Yes, you can. In the evening ...  B00L5JHZJO   \n",
       "32933  [{'answerText': 'I would say it's good for cut...  B00L5JHZJO   \n",
       "32934  [{'answerText': 'A little goes a long way!  A ...  B00L5JHZJO   \n",
       "32935  [{'answerText': 'You can use it as a pre-shamp...  B00L5JHZJO   \n",
       "\n",
       "                                        filtered_answers  \n",
       "0                                                     []  \n",
       "1                                                     []  \n",
       "2                                                     []  \n",
       "3                                                     []  \n",
       "4                                                     []  \n",
       "...                                                  ...  \n",
       "32931  [{'answerText': 'Yes.... it is high in vitamin...  \n",
       "32932  [{'answerText': 'Yes, you can. In the evening ...  \n",
       "32933                                                 []  \n",
       "32934                                                 []  \n",
       "32935                                                 []  \n",
       "\n",
       "[32936 rows x 7 columns]"
      ]
     },
     "execution_count": 7,
     "metadata": {},
     "output_type": "execute_result"
    }
   ],
   "source": [
    "df"
   ]
  },
  {
   "cell_type": "code",
   "execution_count": 8,
   "id": "623e76d5",
   "metadata": {},
   "outputs": [
    {
     "name": "stdout",
     "output_type": "stream",
     "text": [
      "                                            questionText  \\\n",
      "0      May I request for a manual instruction on this...   \n",
      "1      Having problems with the heater melting the wa...   \n",
      "2      How much wax (in pounds, for instance) does it...   \n",
      "3          How to know the expired date of this product?   \n",
      "4      I am not in the sun as I work inside. I am new...   \n",
      "...                                                  ...   \n",
      "32931              is Argan Oil Pure 100% good for Skin?   \n",
      "32932  I find myself with rough cuticles right around...   \n",
      "32933                        is it good for nail beauty?   \n",
      "32934      how can i use it for Topical Use on Dry Hair?   \n",
      "32935    how can i use it for Deep Conditioning Session?   \n",
      "\n",
      "                                        filtered_answers  \n",
      "0                                                     []  \n",
      "1                                                     []  \n",
      "2      [{'answerText': 'It came with the proper amoun...  \n",
      "3                                                     []  \n",
      "4                                                     []  \n",
      "...                                                  ...  \n",
      "32931  [{'answerText': 'I really like it.  It is a no...  \n",
      "32932  [{'answerText': 'Yes, you can. In the evening ...  \n",
      "32933  [{'answerText': 'I would say it's good for cut...  \n",
      "32934                                                 []  \n",
      "32935                                                 []  \n",
      "\n",
      "[32936 rows x 2 columns]\n"
     ]
    }
   ],
   "source": [
    "# Assuming 'answerScore' is the column representing the answer score\n",
    "threshold_score = 0.5\n",
    "\n",
    "# Define a function to filter answers based on the threshold score\n",
    "def filter_answers(answers):\n",
    "    return [answer for answer in answers if float(answer.get('answerScore', 0)) > threshold_score]\n",
    "\n",
    "# Apply the filtering function to the 'answers' column\n",
    "df['filtered_answers'] = df['answers'].apply(filter_answers)\n",
    "\n",
    "# Print the resulting DataFrame with filtered answers\n",
    "print(df[['questionText', 'filtered_answers']])\n"
   ]
  },
  {
   "cell_type": "code",
   "execution_count": 9,
   "id": "be7a01ef",
   "metadata": {},
   "outputs": [
    {
     "name": "stdout",
     "output_type": "stream",
     "text": [
      "questionType        0\n",
      "askerID             0\n",
      "questionTime        0\n",
      "questionText        0\n",
      "answers             0\n",
      "asin                0\n",
      "filtered_answers    0\n",
      "dtype: int64\n"
     ]
    }
   ],
   "source": [
    "# Get the total sum of NaN values in the entire DataFrame\n",
    "total_nan_sum = df.isnull().sum()\n",
    "\n",
    "# Print the total sum of NaN values\n",
    "print(total_nan_sum)\n"
   ]
  },
  {
   "cell_type": "code",
   "execution_count": 10,
   "id": "bd54b624",
   "metadata": {},
   "outputs": [
    {
     "name": "stdout",
     "output_type": "stream",
     "text": [
      "questionText    Having problems with the heater melting the wa...\n",
      "answers         [{'answerText': 'I leave the unit on all the t...\n",
      "Name: 1, dtype: object\n"
     ]
    }
   ],
   "source": [
    "# Filter rows with both a question and non-empty answers\n",
    "filtered_row = df.loc[1]  \n",
    "if filtered_row['questionText'] and filtered_row['answers']:\n",
    "    print(filtered_row[['questionText', 'answers']])\n",
    "\n"
   ]
  },
  {
   "cell_type": "code",
   "execution_count": 11,
   "id": "334f2c1c",
   "metadata": {},
   "outputs": [
    {
     "name": "stdout",
     "output_type": "stream",
     "text": [
      "<class 'pandas.core.frame.DataFrame'>\n",
      "RangeIndex: 32936 entries, 0 to 32935\n",
      "Data columns (total 7 columns):\n",
      " #   Column            Non-Null Count  Dtype \n",
      "---  ------            --------------  ----- \n",
      " 0   questionType      32936 non-null  object\n",
      " 1   askerID           32936 non-null  object\n",
      " 2   questionTime      32936 non-null  object\n",
      " 3   questionText      32936 non-null  object\n",
      " 4   answers           32936 non-null  object\n",
      " 5   asin              32936 non-null  object\n",
      " 6   filtered_answers  32936 non-null  object\n",
      "dtypes: object(7)\n",
      "memory usage: 1.8+ MB\n"
     ]
    }
   ],
   "source": [
    "df.info()"
   ]
  },
  {
   "cell_type": "code",
   "execution_count": 12,
   "id": "fb4fa692",
   "metadata": {},
   "outputs": [
    {
     "data": {
      "text/plain": [
       "questionType        0\n",
       "askerID             0\n",
       "questionTime        0\n",
       "questionText        0\n",
       "answers             0\n",
       "asin                0\n",
       "filtered_answers    0\n",
       "dtype: int64"
      ]
     },
     "execution_count": 12,
     "metadata": {},
     "output_type": "execute_result"
    }
   ],
   "source": [
    "#checking for missing values \n",
    "df.isnull().sum()"
   ]
  },
  {
   "cell_type": "code",
   "execution_count": null,
   "id": "cf46ec5e",
   "metadata": {},
   "outputs": [],
   "source": [
    "df.describe()"
   ]
  },
  {
   "cell_type": "markdown",
   "id": "5e197ba2",
   "metadata": {},
   "source": [
    "# Data analysis "
   ]
  },
  {
   "cell_type": "code",
   "execution_count": null,
   "id": "7a51e628",
   "metadata": {},
   "outputs": [],
   "source": [
    "df['questionType'].value_counts()"
   ]
  },
  {
   "cell_type": "code",
   "execution_count": null,
   "id": "57af9251",
   "metadata": {},
   "outputs": [],
   "source": [
    "import seaborn as sns\n",
    "import matplotlib.pyplot as plt\n",
    "\n",
    "# Assuming 'questionType' is a categorical variable\n",
    "sns.histplot(df['questionType'])\n",
    "plt.title('Distribution of Question Types')\n",
    "plt.xlabel('Question Type')\n",
    "plt.ylabel('Count')\n",
    "plt.show()\n"
   ]
  },
  {
   "cell_type": "code",
   "execution_count": null,
   "id": "307200e9",
   "metadata": {},
   "outputs": [],
   "source": [
    "df['asin'].value_counts()"
   ]
  },
  {
   "cell_type": "code",
   "execution_count": null,
   "id": "98d0376f",
   "metadata": {},
   "outputs": [],
   "source": [
    "unique_values = df['asin'].unique()\n",
    "print(unique_values)"
   ]
  },
  {
   "cell_type": "code",
   "execution_count": null,
   "id": "9b81972a",
   "metadata": {},
   "outputs": [],
   "source": [
    "unique_values = df['questionType'].unique()\n",
    "print(unique_values)\n"
   ]
  },
  {
   "cell_type": "code",
   "execution_count": null,
   "id": "8babb3fa",
   "metadata": {},
   "outputs": [],
   "source": [
    "# Plot the distribution of answer counts for each product\n",
    "df.groupby('asin')['answers'].apply(lambda x: len(x)).sort_values().plot(kind='barh')\n",
    "plt.title('Number of Answers for Each Product')\n",
    "plt.xlabel('Number of Answers')\n",
    "plt.ylabel('Product (ASIN)')\n",
    "plt.show()\n"
   ]
  },
  {
   "cell_type": "code",
   "execution_count": null,
   "id": "ee690b70",
   "metadata": {},
   "outputs": [],
   "source": [
    "import pandas as pd\n",
    "import gzip\n",
    "\n",
    "def parse(path):\n",
    "    g = gzip.open(path, 'rb')\n",
    "    for l in g:\n",
    "        yield eval(l)\n",
    "\n",
    "def getDF(path):\n",
    "    data = list(parse(path))\n",
    "    df = pd.json_normalize(data, 'questions', ['asin'])\n",
    "    return df\n",
    "\n",
    "# Replace 'QA_Beauty.json.gz' with the actual path to your Gzip-compressed JSON file\n",
    "df = getDF('QA_Beauty.json.gz')\n",
    "\n",
    "\n",
    "# Display the DataFrame\n",
    "df\n",
    "\n",
    "\n"
   ]
  },
  {
   "cell_type": "code",
   "execution_count": null,
   "id": "a44325b4",
   "metadata": {},
   "outputs": [],
   "source": [
    "# Drop the 'questionTime' column\n",
    "df1 = df.drop(columns=['questionTime'])\n",
    "\n",
    "# Display the DataFrame after dropping 'questionTime'\n",
    "df1\n"
   ]
  },
  {
   "cell_type": "code",
   "execution_count": null,
   "id": "296f73de",
   "metadata": {},
   "outputs": [],
   "source": [
    "df.isnull().sum()"
   ]
  },
  {
   "cell_type": "code",
   "execution_count": null,
   "id": "e1787679",
   "metadata": {},
   "outputs": [],
   "source": [
    "df1['questionText'].loc[1000]"
   ]
  },
  {
   "cell_type": "code",
   "execution_count": null,
   "id": "a253ff78",
   "metadata": {},
   "outputs": [],
   "source": [
    "df1['answers'].loc[1000]"
   ]
  },
  {
   "cell_type": "code",
   "execution_count": null,
   "id": "c8c0c39e",
   "metadata": {},
   "outputs": [],
   "source": [
    "# Sample code for univariate analysis\n",
    "df['questionText_length'] = df['questionText'].apply(len)\n",
    "plt.hist(df['questionText_length'], bins=30, color='lightcoral')\n",
    "plt.title('Distribution of questionText Lengths')\n",
    "plt.xlabel('Length')\n",
    "plt.ylabel('Frequency')\n",
    "plt.show()\n"
   ]
  },
  {
   "cell_type": "code",
   "execution_count": null,
   "id": "911448d8",
   "metadata": {},
   "outputs": [],
   "source": [
    "# Sample code for word cloud in univariate analysis\n",
    "from wordcloud import WordCloud\n",
    "import matplotlib.pyplot as plt\n",
    "\n",
    "text = ' '.join(df['questionText'])\n",
    "wordcloud = WordCloud(width=800, height=400, random_state=42).generate(text)\n",
    "\n",
    "plt.figure(figsize=(10, 5))\n",
    "plt.imshow(wordcloud, interpolation='bilinear')\n",
    "plt.axis('off')\n",
    "plt.title('Word Cloud for Question Text')\n",
    "plt.show()\n"
   ]
  },
  {
   "cell_type": "code",
   "execution_count": null,
   "id": "f1f4f4f7",
   "metadata": {},
   "outputs": [],
   "source": [
    "# Bar Chart for 'questionType' distribution\n",
    "import seaborn as sns\n",
    "plt.figure(figsize=(8, 5))\n",
    "sns.countplot(data=df, x='questionType', palette='viridis')\n",
    "plt.title('Distribution of Question Types')\n",
    "plt.xlabel('Question Type')\n",
    "plt.ylabel('Count')\n",
    "plt.show()\n"
   ]
  },
  {
   "cell_type": "code",
   "execution_count": null,
   "id": "bf43ee28",
   "metadata": {},
   "outputs": [],
   "source": [
    "# Pie Chart for 'questionType' proportions\n",
    "question_type_counts = df['questionType'].value_counts()\n",
    "plt.pie(question_type_counts, labels=question_type_counts.index, autopct='%1.1f%%', colors=sns.color_palette('pastel'))\n",
    "plt.title('Proportion of Each Question Type')\n",
    "plt.show()\n"
   ]
  },
  {
   "cell_type": "code",
   "execution_count": null,
   "id": "a6e3599c",
   "metadata": {},
   "outputs": [],
   "source": [
    "# Scatter Plot for 'questionText_length' and 'answer_length'\n",
    "df['answer_length'] = df['answers'].apply(lambda x: len(str(x)))\n",
    "plt.scatter(df['questionText_length'], df['answer_length'], color='skyblue')\n",
    "plt.title('Scatter Plot of Question Text Length vs. Answer Length')\n",
    "plt.xlabel('Question Text Length')\n",
    "plt.ylabel('Answer Length')\n",
    "plt.show()\n"
   ]
  },
  {
   "cell_type": "code",
   "execution_count": null,
   "id": "2bdd45ab",
   "metadata": {},
   "outputs": [],
   "source": [
    "# Box Plot for 'questionType' and 'answer_length'\n",
    "plt.figure(figsize=(10, 6))\n",
    "sns.boxplot(x='questionType', y='answer_length', data=df, palette='coolwarm')\n",
    "plt.title('Distribution of Answer Lengths by Question Type')\n",
    "plt.xlabel('Question Type')\n",
    "plt.ylabel('Answer Length')\n",
    "plt.show()\n"
   ]
  },
  {
   "cell_type": "code",
   "execution_count": null,
   "id": "8ef752db",
   "metadata": {},
   "outputs": [],
   "source": [
    "# Bar Chart for 'asin' and 'questionType'\n",
    "plt.figure(figsize=(12, 6))\n",
    "sns.countplot(data=df, x='asin', hue='questionType')\n",
    "plt.title('Distribution of Question Types Across Products')\n",
    "plt.xlabel('Product (ASIN)')\n",
    "plt.ylabel('Count')\n",
    "plt.show()\n"
   ]
  },
  {
   "cell_type": "code",
   "execution_count": null,
   "id": "9ff67079",
   "metadata": {},
   "outputs": [],
   "source": [
    "# Pair Plot for Numerical Variables\n",
    "numerical_variables = ['questionText_length', 'answer_length']\n",
    "sns.pairplot(df[numerical_variables])\n",
    "plt.suptitle('Pair Plot of Numerical Variables', y=1.02)\n",
    "plt.show()\n"
   ]
  },
  {
   "cell_type": "code",
   "execution_count": null,
   "id": "12defe92",
   "metadata": {},
   "outputs": [],
   "source": [
    "# Example: Using 'split' with two levels of 'hue'\n",
    "two_levels_asin = df[df['asin'].isin(df['asin'].value_counts().index[:2])]\n",
    "plt.figure(figsize=(12, 6))\n",
    "sns.violinplot(x='questionType', y='questionText_length', hue='asin', data=two_levels_asin, split=True, palette='husl')\n",
    "plt.title('Distribution of Question Text Length by Question Type and Product')\n",
    "plt.xlabel('Question Type')\n",
    "plt.ylabel('Question Text Length')\n",
    "plt.show()\n"
   ]
  },
  {
   "cell_type": "code",
   "execution_count": null,
   "id": "da89c547",
   "metadata": {},
   "outputs": [],
   "source": [
    "# Clustermap for Correlation Matrix of Numerical Variables\n",
    "numerical_variables = ['questionText_length', 'answer_length']\n",
    "correlation_matrix = df[numerical_variables].corr()\n",
    "\n",
    "plt.figure(figsize=(8, 6))\n",
    "sns.clustermap(correlation_matrix, annot=True, cmap='coolwarm', fmt='.2f', linewidths=.5)\n",
    "plt.title('Clustermap of Correlation Matrix of Numerical Variables')\n",
    "plt.show()\n"
   ]
  },
  {
   "cell_type": "code",
   "execution_count": null,
   "id": "77b8ada0",
   "metadata": {},
   "outputs": [],
   "source": [
    "import nltk\n",
    "from nltk.tokenize import word_tokenize\n",
    "from nltk.corpus import stopwords\n",
    "\n",
    "# Download NLTK resources\n",
    "nltk.download('punkt')\n",
    "nltk.download('stopwords')\n",
    "\n",
    "# Tokenization function\n",
    "def tokenize_text(text):\n",
    "    tokens = word_tokenize(text)\n",
    "    # Remove stopwords and punctuation\n",
    "    stop_words = set(stopwords.words('english'))\n",
    "    tokens = [token.lower() for token in tokens if token.isalnum() and token.lower() not in stop_words]\n",
    "    return tokens\n",
    "\n",
    "# Convert dictionaries in 'answers' column to strings\n",
    "df['answers'] = df['answers'].apply(lambda answers: [answer.get('answerText', '') for answer in answers])\n",
    "\n",
    "# Tokenize \"questionText\" and \"answers\" columns\n",
    "df['tokenized_question'] = df['questionText'].apply(tokenize_text)\n",
    "df['tokenized_answers'] = df['answers'].apply(lambda answers: [tokenize_text(answer) for answer in answers])\n",
    "\n",
    "# Display the resulting DataFrame\n",
    "print(df[['tokenized_question', 'tokenized_answers']])\n"
   ]
  },
  {
   "cell_type": "code",
   "execution_count": null,
   "id": "4e27827f",
   "metadata": {},
   "outputs": [],
   "source": [
    "# Specify the index of the row you want to check\n",
    "row_index_to_check = 0\n",
    "\n",
    "# Access the tokenized question and answers for the specified row\n",
    "tokenized_question = df.at[row_index_to_check, 'tokenized_question']\n",
    "tokenized_answers = df.at[row_index_to_check, 'tokenized_answers']\n",
    "\n",
    "# Display the tokenized text\n",
    "print(f'Tokenized Question: {tokenized_question}')\n",
    "print(f'Tokenized Answers: {tokenized_answers}')\n"
   ]
  },
  {
   "cell_type": "code",
   "execution_count": null,
   "id": "ca50cf4b",
   "metadata": {},
   "outputs": [],
   "source": [
    "import nltk\n",
    "from nltk.sentiment import SentimentIntensityAnalyzer\n",
    "\n",
    "# Download NLTK resources for sentiment analysis\n",
    "nltk.download('vader_lexicon')\n",
    "\n",
    "# Initialize sentiment analyzer\n",
    "sia = SentimentIntensityAnalyzer()\n",
    "\n",
    "# Calculate sentiment scores for questions and answers\n",
    "df['question_sentiment'] = df['tokenized_question'].apply(lambda x: sia.polarity_scores(' '.join(x))['compound'])\n",
    "df['answer_sentiment'] = df['tokenized_answers'].apply(lambda x: [sia.polarity_scores(' '.join(answer))['compound'] for answer in x])\n",
    "\n",
    "# Display the resulting DataFrame\n",
    "print(df[['tokenized_question', 'question_sentiment', 'tokenized_answers', 'answer_sentiment']])\n"
   ]
  },
  {
   "cell_type": "code",
   "execution_count": null,
   "id": "5b56f876",
   "metadata": {},
   "outputs": [],
   "source": [
    "import matplotlib.pyplot as plt\n",
    "\n",
    "# Plot distribution of question sentiment scores\n",
    "plt.hist(df['question_sentiment'], bins=20, label='Questions', alpha=0.5)\n",
    "\n",
    "# Plot distribution of answer sentiment scores (combine scores for all answers in each row)\n",
    "all_answer_sentiments = [score for scores in df['answer_sentiment'] for score in scores]\n",
    "plt.hist(all_answer_sentiments, bins=20, label='Answers', alpha=0.5)\n",
    "\n",
    "plt.xlabel('Sentiment Score')\n",
    "plt.ylabel('Frequency')\n",
    "plt.legend()\n",
    "plt.show()\n"
   ]
  },
  {
   "cell_type": "code",
   "execution_count": null,
   "id": "59f7e253",
   "metadata": {},
   "outputs": [],
   "source": [
    "# Compare mean sentiment scores for questions and answers\n",
    "mean_question_sentiment = df['question_sentiment'].mean()\n",
    "mean_answer_sentiment = df['answer_sentiment'].apply(lambda x: sum(x) / len(x) if len(x) > 0 else 0).mean()\n",
    "\n",
    "print(f'Mean Question Sentiment: {mean_question_sentiment}')\n",
    "print(f'Mean Answer Sentiment: {mean_answer_sentiment}')\n"
   ]
  },
  {
   "cell_type": "code",
   "execution_count": null,
   "id": "4c83fd08",
   "metadata": {},
   "outputs": [],
   "source": [
    "# Calculate correlation between sentiment scores and other features\n",
    "correlation_question_length = df['tokenized_question'].apply(lambda x: len(x)).corr(df['question_sentiment'])\n",
    "correlation_answer_length = df['tokenized_answers'].apply(lambda x: sum(len(answer) for answer in x) / len(x) if len(x) > 0 else 0).corr(df['answer_sentiment'].apply(lambda x: sum(x) / len(x) if len(x) > 0 else 0))\n",
    "\n",
    "print(f'Correlation between Question Length and Sentiment: {correlation_question_length}')\n",
    "print(f'Correlation between Answer Length and Sentiment: {correlation_answer_length}')\n"
   ]
  },
  {
   "cell_type": "markdown",
   "id": "1382e1da",
   "metadata": {},
   "source": [
    "# for the filtered answers "
   ]
  },
  {
   "cell_type": "code",
   "execution_count": 15,
   "id": "dab245bc",
   "metadata": {},
   "outputs": [
    {
     "name": "stdout",
     "output_type": "stream",
     "text": [
      "                                      tokenized_question  \\\n",
      "0      [May, I, request, for, a, manual, instruction,...   \n",
      "1      [Having, problems, with, the, heater, melting,...   \n",
      "2      [How, much, wax, (, in, pounds, ,, for, instan...   \n",
      "3      [How, to, know, the, expired, date, of, this, ...   \n",
      "4      [I, am, not, in, the, sun, as, I, work, inside...   \n",
      "...                                                  ...   \n",
      "32931  [is, Argan, Oil, Pure, 100, %, good, for, Skin...   \n",
      "32932  [I, find, myself, with, rough, cuticles, right...   \n",
      "32933               [is, it, good, for, nail, beauty, ?]   \n",
      "32934  [how, can, i, use, it, for, Topical, Use, on, ...   \n",
      "32935  [how, can, i, use, it, for, Deep, Conditioning...   \n",
      "\n",
      "                              tokenized_filtered_answers  \n",
      "0                                                     []  \n",
      "1                                                     []  \n",
      "2      [It, came, with, the, proper, amount, of, wax,...  \n",
      "3                                                     []  \n",
      "4                                                     []  \n",
      "...                                                  ...  \n",
      "32931  [I, really, like, it, .,  , It, is, a, non, gr...  \n",
      "32932  [Yes, ,, you, can, ., In, the, evening, before...  \n",
      "32933  [I, would, say, it, 's, good, for, cuticles, ....  \n",
      "32934                                                 []  \n",
      "32935                                                 []  \n",
      "\n",
      "[32936 rows x 2 columns]\n"
     ]
    }
   ],
   "source": [
    "import spacy\n",
    "\n",
    "# Load spaCy model\n",
    "nlp = spacy.load(\"en_core_web_sm\")\n",
    "\n",
    "# Tokenize \"questionText\" and \"filtered_answers\" columns\n",
    "df['tokenized_question'] = df['questionText'].apply(lambda x: [token.text for token in nlp(x)])\n",
    "df['tokenized_filtered_answers'] = df['filtered_answers'].apply(lambda answers: [token.text for answer in answers for token in nlp(answer.get('answerText', ''))])\n",
    "\n",
    "# Display the resulting DataFrame\n",
    "print(df[['tokenized_question', 'tokenized_filtered_answers']])\n"
   ]
  },
  {
   "cell_type": "code",
   "execution_count": 17,
   "id": "45fffdbe",
   "metadata": {},
   "outputs": [
    {
     "name": "stderr",
     "output_type": "stream",
     "text": [
      "[nltk_data] Downloading package punkt to\n",
      "[nltk_data]     C:\\Users\\USER\\AppData\\Roaming\\nltk_data...\n",
      "[nltk_data]   Package punkt is already up-to-date!\n"
     ]
    },
    {
     "name": "stdout",
     "output_type": "stream",
     "text": [
      "                                      tokenized_question  \\\n",
      "0      [May, I, request, for, a, manual, instruction,...   \n",
      "1      [Having, problems, with, the, heater, melting,...   \n",
      "2      [How, much, wax, (, in, pounds, ,, for, instan...   \n",
      "3      [How, to, know, the, expired, date, of, this, ...   \n",
      "4      [I, am, not, in, the, sun, as, I, work, inside...   \n",
      "...                                                  ...   \n",
      "32931  [is, Argan, Oil, Pure, 100, %, good, for, Skin...   \n",
      "32932  [I, find, myself, with, rough, cuticles, right...   \n",
      "32933               [is, it, good, for, nail, beauty, ?]   \n",
      "32934  [how, can, i, use, it, for, Topical, Use, on, ...   \n",
      "32935  [how, can, i, use, it, for, Deep, Conditioning...   \n",
      "\n",
      "                              tokenized_filtered_answers  \n",
      "0                                                     []  \n",
      "1                                                     []  \n",
      "2      [[It, came, with, the, proper, amount, of, wax...  \n",
      "3                                                     []  \n",
      "4                                                     []  \n",
      "...                                                  ...  \n",
      "32931  [[I, really, like, it, ., It, is, a, non, grea...  \n",
      "32932  [[Yes, ,, you, can, ., In, the, evening, befor...  \n",
      "32933  [[I, would, say, it, 's, good, for, cuticles, ...  \n",
      "32934                                                 []  \n",
      "32935                                                 []  \n",
      "\n",
      "[32936 rows x 2 columns]\n"
     ]
    }
   ],
   "source": [
    "import nltk\n",
    "from nltk.tokenize import word_tokenize\n",
    "\n",
    "# Download NLTK resources\n",
    "nltk.download('punkt')\n",
    "\n",
    "# Tokenization function\n",
    "def tokenize_text(text):\n",
    "    tokens = word_tokenize(text)\n",
    "    return tokens\n",
    "\n",
    "# Tokenize \"questionText\" and \"filtered_answers\" columns\n",
    "df['tokenized_question'] = df['questionText'].apply(tokenize_text)\n",
    "df['tokenized_filtered_answers'] = df['filtered_answers'].apply(lambda answers: [tokenize_text(answer.get('answerText', '')) for answer in answers])\n",
    "\n",
    "# Display the resulting DataFrame\n",
    "print(df[['tokenized_question', 'tokenized_filtered_answers']])\n"
   ]
  },
  {
   "cell_type": "code",
   "execution_count": null,
   "id": "46fff53f",
   "metadata": {},
   "outputs": [],
   "source": []
  }
 ],
 "metadata": {
  "kernelspec": {
   "display_name": "Python 3 (ipykernel)",
   "language": "python",
   "name": "python3"
  },
  "language_info": {
   "codemirror_mode": {
    "name": "ipython",
    "version": 3
   },
   "file_extension": ".py",
   "mimetype": "text/x-python",
   "name": "python",
   "nbconvert_exporter": "python",
   "pygments_lexer": "ipython3",
   "version": "3.11.5"
  }
 },
 "nbformat": 4,
 "nbformat_minor": 5
}
